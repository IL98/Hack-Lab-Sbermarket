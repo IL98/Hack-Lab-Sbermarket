{
 "cells": [
  {
   "cell_type": "code",
   "execution_count": 1,
   "metadata": {},
   "outputs": [],
   "source": [
    "import pandas as pd\n",
    "import numpy as np\n",
    "from tqdm import tqdm\n",
    "import matplotlib.pyplot as plt"
   ]
  },
  {
   "cell_type": "code",
   "execution_count": 2,
   "metadata": {},
   "outputs": [],
   "source": [
    "df = pd.read_csv('sbermarket_tab_2_1/tab_2_products_2020-01-01.csv')\n",
    "df_tab = pd.read_csv('kaggle_tab_1345/tab_1_orders.csv')"
   ]
  },
  {
   "cell_type": "code",
   "execution_count": 3,
   "metadata": {},
   "outputs": [],
   "source": [
    "df_tab4 = pd.read_csv('kaggle_tab_1345/tab_4_user_profiles.csv')"
   ]
  },
  {
   "cell_type": "code",
   "execution_count": 4,
   "metadata": {},
   "outputs": [
    {
     "data": {
      "text/html": [
       "<div>\n",
       "<style scoped>\n",
       "    .dataframe tbody tr th:only-of-type {\n",
       "        vertical-align: middle;\n",
       "    }\n",
       "\n",
       "    .dataframe tbody tr th {\n",
       "        vertical-align: top;\n",
       "    }\n",
       "\n",
       "    .dataframe thead th {\n",
       "        text-align: right;\n",
       "    }\n",
       "</style>\n",
       "<table border=\"1\" class=\"dataframe\">\n",
       "  <thead>\n",
       "    <tr style=\"text-align: right;\">\n",
       "      <th></th>\n",
       "      <th>user_id</th>\n",
       "      <th>gender</th>\n",
       "      <th>bdate</th>\n",
       "    </tr>\n",
       "  </thead>\n",
       "  <tbody>\n",
       "    <tr>\n",
       "      <td>0</td>\n",
       "      <td>2224890</td>\n",
       "      <td>NaN</td>\n",
       "      <td>NaN</td>\n",
       "    </tr>\n",
       "    <tr>\n",
       "      <td>1</td>\n",
       "      <td>1683001</td>\n",
       "      <td>male</td>\n",
       "      <td>1987-10-11</td>\n",
       "    </tr>\n",
       "    <tr>\n",
       "      <td>2</td>\n",
       "      <td>2102480</td>\n",
       "      <td>NaN</td>\n",
       "      <td>NaN</td>\n",
       "    </tr>\n",
       "    <tr>\n",
       "      <td>3</td>\n",
       "      <td>2224895</td>\n",
       "      <td>NaN</td>\n",
       "      <td>NaN</td>\n",
       "    </tr>\n",
       "    <tr>\n",
       "      <td>4</td>\n",
       "      <td>930197</td>\n",
       "      <td>NaN</td>\n",
       "      <td>NaN</td>\n",
       "    </tr>\n",
       "    <tr>\n",
       "      <td>5</td>\n",
       "      <td>2224898</td>\n",
       "      <td>NaN</td>\n",
       "      <td>NaN</td>\n",
       "    </tr>\n",
       "    <tr>\n",
       "      <td>6</td>\n",
       "      <td>2224901</td>\n",
       "      <td>NaN</td>\n",
       "      <td>NaN</td>\n",
       "    </tr>\n",
       "    <tr>\n",
       "      <td>7</td>\n",
       "      <td>354324</td>\n",
       "      <td>NaN</td>\n",
       "      <td>NaN</td>\n",
       "    </tr>\n",
       "    <tr>\n",
       "      <td>8</td>\n",
       "      <td>2224902</td>\n",
       "      <td>NaN</td>\n",
       "      <td>NaN</td>\n",
       "    </tr>\n",
       "    <tr>\n",
       "      <td>9</td>\n",
       "      <td>2224903</td>\n",
       "      <td>NaN</td>\n",
       "      <td>NaN</td>\n",
       "    </tr>\n",
       "    <tr>\n",
       "      <td>10</td>\n",
       "      <td>1288925</td>\n",
       "      <td>male</td>\n",
       "      <td>1982-09-24</td>\n",
       "    </tr>\n",
       "    <tr>\n",
       "      <td>11</td>\n",
       "      <td>2224904</td>\n",
       "      <td>NaN</td>\n",
       "      <td>NaN</td>\n",
       "    </tr>\n",
       "    <tr>\n",
       "      <td>12</td>\n",
       "      <td>2224910</td>\n",
       "      <td>NaN</td>\n",
       "      <td>NaN</td>\n",
       "    </tr>\n",
       "    <tr>\n",
       "      <td>13</td>\n",
       "      <td>2224911</td>\n",
       "      <td>NaN</td>\n",
       "      <td>NaN</td>\n",
       "    </tr>\n",
       "    <tr>\n",
       "      <td>14</td>\n",
       "      <td>2224916</td>\n",
       "      <td>NaN</td>\n",
       "      <td>NaN</td>\n",
       "    </tr>\n",
       "    <tr>\n",
       "      <td>15</td>\n",
       "      <td>2224917</td>\n",
       "      <td>NaN</td>\n",
       "      <td>NaN</td>\n",
       "    </tr>\n",
       "    <tr>\n",
       "      <td>16</td>\n",
       "      <td>1209705</td>\n",
       "      <td>NaN</td>\n",
       "      <td>NaN</td>\n",
       "    </tr>\n",
       "    <tr>\n",
       "      <td>17</td>\n",
       "      <td>2900</td>\n",
       "      <td>NaN</td>\n",
       "      <td>NaN</td>\n",
       "    </tr>\n",
       "    <tr>\n",
       "      <td>18</td>\n",
       "      <td>2224921</td>\n",
       "      <td>NaN</td>\n",
       "      <td>NaN</td>\n",
       "    </tr>\n",
       "    <tr>\n",
       "      <td>19</td>\n",
       "      <td>1914497</td>\n",
       "      <td>male</td>\n",
       "      <td>26.9.1983</td>\n",
       "    </tr>\n",
       "  </tbody>\n",
       "</table>\n",
       "</div>"
      ],
      "text/plain": [
       "    user_id gender       bdate\n",
       "0   2224890    NaN         NaN\n",
       "1   1683001   male  1987-10-11\n",
       "2   2102480    NaN         NaN\n",
       "3   2224895    NaN         NaN\n",
       "4    930197    NaN         NaN\n",
       "5   2224898    NaN         NaN\n",
       "6   2224901    NaN         NaN\n",
       "7    354324    NaN         NaN\n",
       "8   2224902    NaN         NaN\n",
       "9   2224903    NaN         NaN\n",
       "10  1288925   male  1982-09-24\n",
       "11  2224904    NaN         NaN\n",
       "12  2224910    NaN         NaN\n",
       "13  2224911    NaN         NaN\n",
       "14  2224916    NaN         NaN\n",
       "15  2224917    NaN         NaN\n",
       "16  1209705    NaN         NaN\n",
       "17     2900    NaN         NaN\n",
       "18  2224921    NaN         NaN\n",
       "19  1914497   male   26.9.1983"
      ]
     },
     "execution_count": 4,
     "metadata": {},
     "output_type": "execute_result"
    }
   ],
   "source": [
    "df_tab4.head(20)"
   ]
  },
  {
   "cell_type": "code",
   "execution_count": 5,
   "metadata": {},
   "outputs": [],
   "source": [
    "df_tab4 = df_tab4.dropna()"
   ]
  },
  {
   "cell_type": "code",
   "execution_count": 6,
   "metadata": {},
   "outputs": [
    {
     "data": {
      "text/html": [
       "<div>\n",
       "<style scoped>\n",
       "    .dataframe tbody tr th:only-of-type {\n",
       "        vertical-align: middle;\n",
       "    }\n",
       "\n",
       "    .dataframe tbody tr th {\n",
       "        vertical-align: top;\n",
       "    }\n",
       "\n",
       "    .dataframe thead th {\n",
       "        text-align: right;\n",
       "    }\n",
       "</style>\n",
       "<table border=\"1\" class=\"dataframe\">\n",
       "  <thead>\n",
       "    <tr style=\"text-align: right;\">\n",
       "      <th></th>\n",
       "      <th>user_id</th>\n",
       "      <th>gender</th>\n",
       "      <th>bdate</th>\n",
       "    </tr>\n",
       "  </thead>\n",
       "  <tbody>\n",
       "    <tr>\n",
       "      <td>1</td>\n",
       "      <td>1683001</td>\n",
       "      <td>male</td>\n",
       "      <td>1987-10-11</td>\n",
       "    </tr>\n",
       "    <tr>\n",
       "      <td>10</td>\n",
       "      <td>1288925</td>\n",
       "      <td>male</td>\n",
       "      <td>1982-09-24</td>\n",
       "    </tr>\n",
       "    <tr>\n",
       "      <td>19</td>\n",
       "      <td>1914497</td>\n",
       "      <td>male</td>\n",
       "      <td>26.9.1983</td>\n",
       "    </tr>\n",
       "    <tr>\n",
       "      <td>22</td>\n",
       "      <td>631583</td>\n",
       "      <td>male</td>\n",
       "      <td>1989-03-16</td>\n",
       "    </tr>\n",
       "    <tr>\n",
       "      <td>41</td>\n",
       "      <td>2106256</td>\n",
       "      <td>male</td>\n",
       "      <td>1978-12-04</td>\n",
       "    </tr>\n",
       "    <tr>\n",
       "      <td>...</td>\n",
       "      <td>...</td>\n",
       "      <td>...</td>\n",
       "      <td>...</td>\n",
       "    </tr>\n",
       "    <tr>\n",
       "      <td>438862</td>\n",
       "      <td>3424212</td>\n",
       "      <td>female</td>\n",
       "      <td>1997-09-15</td>\n",
       "    </tr>\n",
       "    <tr>\n",
       "      <td>438863</td>\n",
       "      <td>3424222</td>\n",
       "      <td>male</td>\n",
       "      <td>1978-09-18</td>\n",
       "    </tr>\n",
       "    <tr>\n",
       "      <td>438864</td>\n",
       "      <td>3424225</td>\n",
       "      <td>female</td>\n",
       "      <td>1981-11-02</td>\n",
       "    </tr>\n",
       "    <tr>\n",
       "      <td>438865</td>\n",
       "      <td>3424228</td>\n",
       "      <td>female</td>\n",
       "      <td>1993-10-04</td>\n",
       "    </tr>\n",
       "    <tr>\n",
       "      <td>438866</td>\n",
       "      <td>797420</td>\n",
       "      <td>female</td>\n",
       "      <td>1981-07-22</td>\n",
       "    </tr>\n",
       "  </tbody>\n",
       "</table>\n",
       "<p>206928 rows × 3 columns</p>\n",
       "</div>"
      ],
      "text/plain": [
       "        user_id  gender       bdate\n",
       "1       1683001    male  1987-10-11\n",
       "10      1288925    male  1982-09-24\n",
       "19      1914497    male   26.9.1983\n",
       "22       631583    male  1989-03-16\n",
       "41      2106256    male  1978-12-04\n",
       "...         ...     ...         ...\n",
       "438862  3424212  female  1997-09-15\n",
       "438863  3424222    male  1978-09-18\n",
       "438864  3424225  female  1981-11-02\n",
       "438865  3424228  female  1993-10-04\n",
       "438866   797420  female  1981-07-22\n",
       "\n",
       "[206928 rows x 3 columns]"
      ]
     },
     "execution_count": 6,
     "metadata": {},
     "output_type": "execute_result"
    }
   ],
   "source": [
    "df_tab4"
   ]
  },
  {
   "cell_type": "code",
   "execution_count": 7,
   "metadata": {},
   "outputs": [],
   "source": [
    "dates = np.array(df_tab4.bdate)"
   ]
  },
  {
   "cell_type": "code",
   "execution_count": 8,
   "metadata": {},
   "outputs": [],
   "source": [
    "dates = [x.split('-') if '-' in x else x.split('.') for x in dates]\n",
    "dates = [np.max([int(a) for a in x]) for x in dates]"
   ]
  },
  {
   "cell_type": "code",
   "execution_count": 9,
   "metadata": {},
   "outputs": [],
   "source": [
    "df_tab4.bdate = dates"
   ]
  },
  {
   "cell_type": "code",
   "execution_count": 10,
   "metadata": {},
   "outputs": [],
   "source": [
    "id_female = np.array(df_tab4[df_tab4.gender=='female'].user_id)\n",
    "id_male = np.array(df_tab4[df_tab4.gender=='male'].user_id)"
   ]
  },
  {
   "cell_type": "code",
   "execution_count": 11,
   "metadata": {},
   "outputs": [
    {
     "name": "stderr",
     "output_type": "stream",
     "text": [
      "100%|██████████| 76184/76184 [00:38<00:00, 1964.18it/s]\n"
     ]
    }
   ],
   "source": [
    "price = []\n",
    "for id_ in tqdm(id_male):\n",
    "    if id_ in np.array(df.user_id):\n",
    "        local = df[df.user_id==id_]\n",
    "        for order_id in np.array(local.order_id):\n",
    "            local_order = local[local.order_id==order_id]\n",
    "            price_local = np.sum(local_order.price)\n",
    "            price.append(price_local)"
   ]
  },
  {
   "cell_type": "code",
   "execution_count": 12,
   "metadata": {},
   "outputs": [
    {
     "name": "stdout",
     "output_type": "stream",
     "text": [
      "Male average basket price\n",
      "Median: 3274.4799795150757\n",
      "Mean: 4508.454845132964\n"
     ]
    }
   ],
   "source": [
    "print('Male average basket price')\n",
    "print('Median:', np.median(price))\n",
    "print('Mean:', np.mean(price))"
   ]
  },
  {
   "cell_type": "code",
   "execution_count": 13,
   "metadata": {},
   "outputs": [
    {
     "name": "stderr",
     "output_type": "stream",
     "text": [
      "100%|██████████| 130744/130744 [01:07<00:00, 1941.09it/s]\n"
     ]
    }
   ],
   "source": [
    "price = []\n",
    "for id_ in tqdm(id_female):\n",
    "    if id_ in np.array(df.user_id):\n",
    "        local = df[df.user_id==id_]\n",
    "        for order_id in np.array(local.order_id):\n",
    "            local_order = local[local.order_id==order_id]\n",
    "            price_local = np.sum(local_order.price)\n",
    "            price.append(price_local)"
   ]
  },
  {
   "cell_type": "code",
   "execution_count": 14,
   "metadata": {},
   "outputs": [
    {
     "name": "stdout",
     "output_type": "stream",
     "text": [
      "Female average basket price\n",
      "Median: 3621.090021133423\n",
      "Mean: 4498.690869629303\n"
     ]
    }
   ],
   "source": [
    "print('Female average basket price')\n",
    "print('Median:', np.median(price))\n",
    "print('Mean:', np.mean(price))"
   ]
  },
  {
   "cell_type": "code",
   "execution_count": 15,
   "metadata": {},
   "outputs": [],
   "source": [
    "age = 2020*np.ones(len(dates)) - np.array(dates)"
   ]
  },
  {
   "cell_type": "code",
   "execution_count": 16,
   "metadata": {},
   "outputs": [],
   "source": [
    "age = age[age<120]\n",
    "age = age[age>5]"
   ]
  },
  {
   "cell_type": "code",
   "execution_count": 17,
   "metadata": {},
   "outputs": [
    {
     "data": {
      "text/plain": [
       "{'whiskers': [<matplotlib.lines.Line2D at 0x7f1543870290>,\n",
       "  <matplotlib.lines.Line2D at 0x7f15438814d0>],\n",
       " 'caps': [<matplotlib.lines.Line2D at 0x7f15438819d0>,\n",
       "  <matplotlib.lines.Line2D at 0x7f1543881ed0>],\n",
       " 'boxes': [<matplotlib.lines.Line2D at 0x7f1543870250>],\n",
       " 'medians': [<matplotlib.lines.Line2D at 0x7f1543870f50>],\n",
       " 'fliers': [<matplotlib.lines.Line2D at 0x7f1545f779d0>],\n",
       " 'means': []}"
      ]
     },
     "execution_count": 17,
     "metadata": {},
     "output_type": "execute_result"
    },
    {
     "data": {
      "image/png": "[encoded data removed]",
      "text/plain": [
       "<Figure size 432x288 with 1 Axes>"
      ]
     },
     "metadata": {
      "needs_background": "light"
     },
     "output_type": "display_data"
    }
   ],
   "source": [
    "plt.boxplot(age)"
   ]
  },
  {
   "cell_type": "code",
   "execution_count": 18,
   "metadata": {},
   "outputs": [],
   "source": [
    "#Introduce six groups of customers by age\n",
    "\n",
    "\n",
    "young = age[age<12]\n",
    "teens = age[[i for i,x in enumerate(age) if x in range(10,15)]]\n",
    "adolescents = age[[i for i,x in enumerate(age) if x in range(16,21)]]\n",
    "young_adults = age[[i for i,x in enumerate(age) if x in range(22,32)]]\n",
    "adults = age[[i for i,x in enumerate(age) if x in range(33,50)]]\n",
    "old = age[[i for i,x in enumerate(age) if x > 50]]"
   ]
  },
  {
   "cell_type": "code",
   "execution_count": 19,
   "metadata": {},
   "outputs": [
    {
     "name": "stdout",
     "output_type": "stream",
     "text": [
      "28\n",
      "275\n",
      "20543\n",
      "76896\n",
      "73345\n",
      "18104\n"
     ]
    }
   ],
   "source": [
    "print(len(young))\n",
    "print(len(teens))\n",
    "print(len(adolescents))\n",
    "print(len(young_adults))\n",
    "print(len(adults))\n",
    "print(len(old))"
   ]
  },
  {
   "cell_type": "code",
   "execution_count": 20,
   "metadata": {},
   "outputs": [],
   "source": [
    "a = [len(young), len(teens), len(adolescents), len(young_adults), len(adults), len(old)]"
   ]
  },
  {
   "cell_type": "code",
   "execution_count": 21,
   "metadata": {},
   "outputs": [],
   "source": [
    "names = ['<12', '12-15', '16-21', '22-33', '33-50', '50+']"
   ]
  },
  {
   "cell_type": "code",
   "execution_count": 22,
   "metadata": {},
   "outputs": [
    {
     "data": {
      "text/plain": [
       "Text(0.5, 1.0, 'Distribution of customers by age')"
      ]
     },
     "execution_count": 22,
     "metadata": {},
     "output_type": "execute_result"
    },
    {
     "data": {
      "image/png": "[encoded data removed]",
      "text/plain": [
       "<Figure size 432x288 with 1 Axes>"
      ]
     },
     "metadata": {
      "needs_background": "light"
     },
     "output_type": "display_data"
    }
   ],
   "source": [
    "plt.bar(names, a)\n",
    "plt.title('Distribution of customers by age')"
   ]
  }
 ],
 "metadata": {
  "kernelspec": {
   "display_name": "Python 3",
   "language": "python",
   "name": "python3"
  },
  "language_info": {
   "codemirror_mode": {
    "name": "ipython",
    "version": 3
   },
   "file_extension": ".py",
   "mimetype": "text/x-python",
   "name": "python",
   "nbconvert_exporter": "python",
   "pygments_lexer": "ipython3",
   "version": "3.7.4"
  }
 },
 "nbformat": 4,
 "nbformat_minor": 2
}
